{
  "nbformat": 4,
  "nbformat_minor": 0,
  "metadata": {
    "colab": {
      "name": "GeneradorMillerRabin.ipynb",
      "provenance": [],
      "authorship_tag": "ABX9TyM3rzr1RXtFVw6qhgQ3ybFa",
      "include_colab_link": true
    },
    "kernelspec": {
      "name": "python3",
      "display_name": "Python 3"
    }
  },
  "cells": [
    {
      "cell_type": "markdown",
      "metadata": {
        "id": "view-in-github",
        "colab_type": "text"
      },
      "source": [
        "<a href=\"https://colab.research.google.com/github/nirodriguezsa/Lenguajes-de-programacion/blob/master/GeneradorMillerRabin.ipynb\" target=\"_parent\"><img src=\"https://colab.research.google.com/assets/colab-badge.svg\" alt=\"Open In Colab\"/></a>"
      ]
    },
    {
      "cell_type": "code",
      "metadata": {
        "id": "gHVe2fc-9yvf",
        "colab_type": "code",
        "colab": {
          "base_uri": "https://localhost:8080/",
          "height": 52
        },
        "outputId": "dc6b60ff-f624-4c20-880f-f8e91b9f6818"
      },
      "source": [
        "import random\n",
        "import sys\n",
        "\n",
        "def generarGrande(cantidadCifras):\n",
        "  #Creamos funcion para validar la cantidad de digitos \n",
        "  def cuantosDigitos(number):\n",
        "    res = 1\n",
        "    if number>9:\n",
        "      return 1+cuantosDigitos(number/10)\n",
        "    else:\n",
        "      return res\n",
        "\n",
        "  posiblePrimo = 0\n",
        "  while cuantosDigitos(posiblePrimo)<cantidadCifras: #Se valida que el numero sea mayor a 50 cifras\n",
        "    posiblePrimo = random.randint(1,(10**cantidadCifras))\n",
        "\n",
        "  return posiblePrimo\n",
        "\n",
        "def esPrimo(n, k):#k es la cantidad de iteraciones\n",
        "   if n < 1:\n",
        "     return False\n",
        "   if n == 1 or n == 2 or n == 3: #casos base\n",
        "     return True\n",
        "   elif n & 1 == 0:  #Mas rapido así que n%2, si es par por supuesto se descarta\n",
        "      return False\n",
        "   else:\n",
        "      s = 0\n",
        "      r = n - 1\n",
        "      while r & 1 == 0:\n",
        "         s, r = s + 1, r >> 1\n",
        "      for a in random.sample(range(2, min(n - 2, sys.maxsize)), min(n - 4, k)): #Realizar k iteraciones\n",
        "         x = pow(a, r, n)\n",
        "         if x != 1 and x + 1 != n:\n",
        "            for r in range(1, s):\n",
        "               x = pow(x, 2, n)\n",
        "               if x == 1:\n",
        "                  return False  # Es compuesto\n",
        "               elif x == n - 1:\n",
        "                  a = 0  #Marcador \n",
        "                  break\n",
        "            if a:\n",
        "               return False  # Hasta este punto sería compuesto\n",
        "      return True  #Probable primo\n",
        "\n",
        "intento = 0\n",
        "cifras = 2\n",
        "k = 5 #Veces que se corre el algoritmo\n",
        "probabilidad = (0.25**k) #La probabilidad del Test de MillerRabin es de 1/4, si se corre n veces es de (1/4)^n\n",
        "posiblePrimo = generarGrande(cifras)\n",
        "while not(esPrimo(posiblePrimo , k)):\n",
        "  posiblePrimo = generarGrande(cifras)\n",
        "  intento += 1\n",
        "\n",
        "print(\"Se encontró al intento No: \",intento)\n",
        "print(\"Un primo sería\", posiblePrimo, \" con una probabilidad de que sea compuesto del \", probabilidad,\"%\")"
      ],
      "execution_count": 31,
      "outputs": [
        {
          "output_type": "stream",
          "text": [
            "Se encontró al intento No:  7\n",
            "Un primo sería 47  con una probabilidad de que sea compuesto del  0.0009765625 %\n"
          ],
          "name": "stdout"
        }
      ]
    }
  ]
}